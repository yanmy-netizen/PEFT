{
 "cells": [
  {
   "cell_type": "code",
   "execution_count": 1,
   "id": "81db496d-fe67-49d1-b78d-9131556fbf67",
   "metadata": {},
   "outputs": [],
   "source": [
    "from datasets import Dataset\n",
    "from transformers import AutoTokenizer, AutoModelForCausalLM, DataCollatorForSeq2Seq, TrainingArguments, Trainer, AutoModelForSequenceClassification\n",
    "from peft import PeftModel\n",
    "\n",
    "tokenizer = AutoTokenizer.from_pretrained(\"./bloom-1b1\")\n",
    "ipt = tokenizer(\"Human: {}\\n{}\".format(\"How to prepare an exam?\", \"\").strip() + \"\\n\\nAssistant: \", return_tensors=\"pt\")"
   ]
  },
  {
   "cell_type": "code",
   "execution_count": 2,
   "id": "895d698b-9a09-43f1-93a3-4338f9fe28bb",
   "metadata": {},
   "outputs": [
    {
     "data": {
      "text/plain": [
       "'Human: How to prepare an exam?\\n\\nAssistant: Before reading the answers here, it is important to note that a practical exam is not meant to be completed without any preparation. For example, the answer to a practical question may not be the same as the question given in a paper. The exam should be considered to be an assessment of your analytical abilities. It would be up to you to choose the right exam system, study method, and prepare for the exam beforehand.'"
      ]
     },
     "execution_count": 2,
     "metadata": {},
     "output_type": "execute_result"
    }
   ],
   "source": [
    "#bitfit\n",
    "\n",
    "model = AutoModelForCausalLM.from_pretrained(\"./bitfit/chatbot/checkpoint-1000\")\n",
    "tokenizer.decode(model.generate(**ipt, max_length=128, do_sample=True)[0], skip_special_tokens=True)"
   ]
  },
  {
   "cell_type": "code",
   "execution_count": 3,
   "id": "a4a39384-14fb-4a72-b015-32c20fe935fd",
   "metadata": {},
   "outputs": [],
   "source": [
    "#prompt tuning\n",
    "\n",
    "#peft_model = PeftModel.from_pretrained(model=model, model_id=\"./prompt_tuning/chatbot/checkpoint-1000/\")\n",
    "#print(tokenizer.decode(peft_model.generate(**ipt, max_length=128, do_sample=True)[0], skip_special_tokens=True))"
   ]
  },
  {
   "cell_type": "code",
   "execution_count": 4,
   "id": "ff80cd24-9640-402a-8151-c577ef60bb62",
   "metadata": {},
   "outputs": [
    {
     "data": {
      "text/plain": [
       "'Human: How to prepare an exam?\\n\\nAssistant: In order to prepare a test you must first set a time, schedule and date for it. This can be done by accessing the test schedule from the exam syllabus, by submitting an exam assignment on the assessment page or by requesting a test invitation from the test host. Once the time, schedule and date have been selected, it is time to formulate and complete a test question. In order for the question to be answered correctly, you must understand the question and answer each step thoroughly and be prepared to answer correctly. By completing the question, you have a clear understanding of the topics'"
      ]
     },
     "execution_count": 4,
     "metadata": {},
     "output_type": "execute_result"
    }
   ],
   "source": [
    "#prefix tuning\n",
    "\n",
    "model = AutoModelForCausalLM.from_pretrained(\"bigscience/bloom-1b1\", low_cpu_mem_usage=True)\n",
    "peft_model = PeftModel.from_pretrained(model=model, model_id='./prefix_tuning/chatbot/checkpoint-1000')\n",
    "# tokenizer = AutoTokenizer.from_pretrained('prefix-tuning-model')\n",
    "peft_model = peft_model.cuda()\n",
    "ipt = tokenizer(\"Human: {}\\n{}\".format(\"How to prepare an exam?\", \"\").strip() + \"\\n\\nAssistant: \", return_tensors=\"pt\").to(peft_model.device)\n",
    "tokenizer.decode(peft_model.generate(**ipt, max_length=128, do_sample=True)[0], skip_special_tokens=True)"
   ]
  },
  {
   "cell_type": "code",
   "execution_count": 6,
   "id": "77b8ca92-011a-4452-9e66-c2423adead0a",
   "metadata": {},
   "outputs": [
    {
     "data": {
      "text/plain": [
       "'Human: How to prepare an exam?\\n\\nAssistant: Understanding the main skills needed to prepare for a certification exam varies based on the type of certification you are aiming to obtain, but these can often be grouped into two main parts: 1) Understanding the key concepts and core skills required for passing an exam and 2) Implementing these elements to achieve an optimal level of performance. For example, there are many different forms of certification exams, such as Certificate in Computer Science (CS), Certificate in Business Systems (CABS), License in Information Technology (LIT), and Master of Information Systems (MIS). Each of these forms of certification'"
      ]
     },
     "execution_count": 6,
     "metadata": {},
     "output_type": "execute_result"
    }
   ],
   "source": [
    "#lora\n",
    "\n",
    "peft_model = PeftModel.from_pretrained(model=model, model_id='./lora/chatbot/checkpoint-1000')\n",
    "peft_model = peft_model.cuda()\n",
    "ipt = tokenizer(\"Human: {}\\n{}\".format(\"How to prepare an exam?\", \"\").strip() + \"\\n\\nAssistant: \", return_tensors=\"pt\").to(peft_model.device)\n",
    "tokenizer.decode(peft_model.generate(**ipt, max_length=128, do_sample=True)[0], skip_special_tokens=True)"
   ]
  },
  {
   "cell_type": "code",
   "execution_count": null,
   "id": "b1a0c950-8ecd-4134-8a5f-5edf46dfad75",
   "metadata": {},
   "outputs": [],
   "source": []
  }
 ],
 "metadata": {
  "kernelspec": {
   "display_name": "Python 3 (ipykernel)",
   "language": "python",
   "name": "python3"
  },
  "language_info": {
   "codemirror_mode": {
    "name": "ipython",
    "version": 3
   },
   "file_extension": ".py",
   "mimetype": "text/x-python",
   "name": "python",
   "nbconvert_exporter": "python",
   "pygments_lexer": "ipython3",
   "version": "3.11.8"
  }
 },
 "nbformat": 4,
 "nbformat_minor": 5
}
