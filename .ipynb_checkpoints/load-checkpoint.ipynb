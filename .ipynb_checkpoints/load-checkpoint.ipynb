{
 "cells": [
  {
   "cell_type": "code",
   "execution_count": 6,
   "id": "81db496d-fe67-49d1-b78d-9131556fbf67",
   "metadata": {},
   "outputs": [],
   "source": [
    "from datasets import Dataset\n",
    "from transformers import AutoTokenizer, AutoModelForCausalLM, DataCollatorForSeq2Seq, TrainingArguments, Trainer, AutoModelForSequenceClassification\n",
    "from peft import PeftModel\n"
   ]
  },
  {
   "cell_type": "code",
   "execution_count": 9,
   "id": "895d698b-9a09-43f1-93a3-4338f9fe28bb",
   "metadata": {},
   "outputs": [
    {
     "data": {
      "application/vnd.jupyter.widget-view+json": {
       "model_id": "8f43be0d8ef8417c8ff84a891bdc4c77",
       "version_major": 2,
       "version_minor": 0
      },
      "text/plain": [
       "Loading checkpoint shards:   0%|          | 0/2 [00:00<?, ?it/s]"
      ]
     },
     "metadata": {},
     "output_type": "display_data"
    },
    {
     "data": {
      "text/plain": [
       "'Human: 考试有哪些技巧？\\n\\nAssistant: 考试技巧包括五个方面。 第一，制定合理的考试计划。制定一个合理的计划非常重要。如果考生只知道想要在某一天进行的考试是什么样的，那么他很有可能在考试的过程中被焦虑和拖延所困扰。因此，考生必须制定一个计划，对每一门考试科目都详细列明每一部分的内容。这样他就可以知道在每一天的哪一个时间进行哪些科目，需要注意的是，每一天的考试计划不仅包括考试的时间问题，还包括考试的各个部分，以及相关的考试技巧。 第二，做题准备。考生必须做好'"
      ]
     },
     "execution_count": 9,
     "metadata": {},
     "output_type": "execute_result"
    }
   ],
   "source": [
    "model = AutoModelForCausalLM.from_pretrained(\"./chatbot/checkpoint-3000\")\n",
    "tokenizer = AutoTokenizer.from_pretrained(\"Langboat/bloom-1b4-zh\")\n",
    "ipt = tokenizer(\"Human: {}\\n{}\".format(\"考试有哪些技巧？\", \"\").strip() + \"\\n\\nAssistant: \", return_tensors=\"pt\").to(model.device)\n",
    "tokenizer.decode(model.generate(**ipt, max_length=128, do_sample=True)[0], skip_special_tokens=True)"
   ]
  },
  {
   "cell_type": "code",
   "execution_count": 13,
   "id": "d04c09c6-95a7-4007-bc53-41cb5661a742",
   "metadata": {},
   "outputs": [
    {
     "name": "stderr",
     "output_type": "stream",
     "text": [
      "Truncation was not explicitly activated but `max_length` is provided a specific value, please use `truncation=True` to explicitly truncate examples to max length. Defaulting to 'longest_first' truncation strategy. If you encode pairs of sequences (GLUE-style) with the tokenizer you can select this strategy more precisely by providing a specific strategy to `truncation`.\n"
     ]
    },
    {
     "data": {
      "text/plain": [
       "[{'generated_text': 'Human: 考试有哪些技巧？\\n\\nAssistant: 考试有哪些技巧？\\n答案:\\n1. 心态调节，做好充分准备。\\n2. 保持清醒，排除杂念。思虑清晰是备考的基础。考试的紧张时刻需要一个安静的环境来放松。保持愉快的心情迎接挑战并学会排除杂念。\\n3. 认真学习，科学安排复习。学习是一场马拉松，需要长期努力和坚持，所以每次考试前，应该提前制定一个科学的考试计划，制定一个合理的系统化的复习计划，科学安排好学习时间、学习方式等，以达到事半功倍的效果。'}]"
      ]
     },
     "execution_count": 13,
     "metadata": {},
     "output_type": "execute_result"
    }
   ],
   "source": [
    "from transformers import pipeline\n",
    "\n",
    "pipe = pipeline(\"text-generation\", model=model, tokenizer=tokenizer, device=0)\n",
    "ipt = \"Human: {}\\n{}\".format(\"考试有哪些技巧？\", \"\").strip() + \"\\n\\nAssistant: \"\n",
    "pipe(ipt, max_length=256, do_sample=True, )"
   ]
  },
  {
   "cell_type": "code",
   "execution_count": 14,
   "id": "aa40ec9f-b7a9-4386-bcb9-ae8c234a816a",
   "metadata": {},
   "outputs": [
    {
     "data": {
      "text/plain": [
       "[{'generated_text': 'Human: 考试有哪些技巧？\\n\\nAssistant: 你可以关注一些考试的技巧，比如阅读能力和写作能力。 首先，阅读能力很重要，阅读不仅能巩固和深化知识，还能锻炼语感，提高表达能力和阅读技巧。 写作的技能也很重要。在写作中，不仅要根据写作目的、写作对象、写作场景、使用材料等来进行写作，还必须注意文体、语言修辞、内容和结构等。 只有这样才能提高写作能力，写出令人满意的写作作品。'}]"
      ]
     },
     "execution_count": 14,
     "metadata": {},
     "output_type": "execute_result"
    }
   ],
   "source": [
    "import warnings\n",
    "warnings.filterwarnings('ignore')\n",
    "pipe(ipt, max_length=256, do_sample=True, )"
   ]
  },
  {
   "cell_type": "code",
   "execution_count": null,
   "id": "d0125941-9114-4005-8463-78db12078eea",
   "metadata": {},
   "outputs": [],
   "source": []
  }
 ],
 "metadata": {
  "kernelspec": {
   "display_name": "Python 3 (ipykernel)",
   "language": "python",
   "name": "python3"
  },
  "language_info": {
   "codemirror_mode": {
    "name": "ipython",
    "version": 3
   },
   "file_extension": ".py",
   "mimetype": "text/x-python",
   "name": "python",
   "nbconvert_exporter": "python",
   "pygments_lexer": "ipython3",
   "version": "3.11.8"
  }
 },
 "nbformat": 4,
 "nbformat_minor": 5
}
