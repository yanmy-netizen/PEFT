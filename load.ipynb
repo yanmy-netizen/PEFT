{
 "cells": [
  {
   "cell_type": "code",
   "execution_count": 1,
   "id": "81db496d-fe67-49d1-b78d-9131556fbf67",
   "metadata": {},
   "outputs": [],
   "source": [
    "from datasets import Dataset\n",
    "from transformers import AutoTokenizer, AutoModelForCausalLM, DataCollatorForSeq2Seq, TrainingArguments, Trainer, AutoModelForSequenceClassification\n",
    "from peft import PeftModel\n",
    "\n",
    "tokenizer = AutoTokenizer.from_pretrained(\"Langboat/bloom-1b4-zh\")\n",
    "ipt = tokenizer(\"Human: {}\\n{}\".format(\"考试有哪些技巧？\", \"\").strip() + \"\\n\\nAssistant: \", return_tensors=\"pt\")"
   ]
  },
  {
   "cell_type": "code",
   "execution_count": 2,
   "id": "895d698b-9a09-43f1-93a3-4338f9fe28bb",
   "metadata": {},
   "outputs": [
    {
     "data": {
      "application/vnd.jupyter.widget-view+json": {
       "model_id": "84974ab71ea84803844113b69532b2b0",
       "version_major": 2,
       "version_minor": 0
      },
      "text/plain": [
       "Loading checkpoint shards:   0%|          | 0/2 [00:00<?, ?it/s]"
      ]
     },
     "metadata": {},
     "output_type": "display_data"
    },
    {
     "data": {
      "text/plain": [
       "'Human: 考试有哪些技巧？\\n\\nAssistant: 学习技巧主要是学习过程中的一个重要部分。在学习的过程中，有效的学习技巧能够帮助我们更有效地学习并完成学习任务。一般来说，学习技巧主要包括以下几点：\\n\\n1. 分工学习。由于每个人所处的学习能力差异，学习过程中有需要每个人各司其职。因此我们在选择学习方式的时候，需要权衡各个方面的能力，找到最适合自己的学习方式。\\n\\n2. 制定学习规划。不同的时间段、任务和学习内容有不同的学习方法和技巧，我们需要根据自己的实际情况制定适合自己的学习计划，在学习和'"
      ]
     },
     "execution_count": 2,
     "metadata": {},
     "output_type": "execute_result"
    }
   ],
   "source": [
    "model = AutoModelForCausalLM.from_pretrained(\"./1bitfit/chatbot/checkpoint-3000\")\n",
    "tokenizer.decode(model.generate(**ipt, max_length=128, do_sample=True)[0], skip_special_tokens=True)"
   ]
  },
  {
   "cell_type": "code",
   "execution_count": 3,
   "id": "a4a39384-14fb-4a72-b015-32c20fe935fd",
   "metadata": {},
   "outputs": [
    {
     "name": "stdout",
     "output_type": "stream",
     "text": [
      "Human: 考试有哪些技巧？\n",
      "\n",
      "Assistant: 英语专业的学生，专业英语、专业阅读、翻译这三个。学生专业阅读和翻译可以参考这四个考试的题型。然后对英语专业的学生，可以参考四六级考试的题型，对英语专业、对社会的需求。\n",
      "最后我们来说说这篇文章，写得比较专业、比较有价值。这个文章是在我们大学英语三的试卷里面看到的。这篇试卷的题目很简单，但是很仔细，仔细到非常难求，最后给了一些解题的诀窍。建议大家好好学，认真做，\n"
     ]
    }
   ],
   "source": [
    "from peft import PeftModel\n",
    "\n",
    "model = AutoModelForCausalLM.from_pretrained(\"Langboat/bloom-1b4-zh\", low_cpu_mem_usage=True)\n",
    "peft_model = PeftModel.from_pretrained(model=model, model_id=\"./2prompt_tuning_soft/chatbot/checkpoint-3000/\")\n",
    "print(tokenizer.decode(peft_model.generate(**ipt, max_length=128, do_sample=True)[0], skip_special_tokens=True))"
   ]
  },
  {
   "cell_type": "code",
   "execution_count": null,
   "id": "77b8ca92-011a-4452-9e66-c2423adead0a",
   "metadata": {},
   "outputs": [],
   "source": []
  }
 ],
 "metadata": {
  "kernelspec": {
   "display_name": "Python 3 (ipykernel)",
   "language": "python",
   "name": "python3"
  },
  "language_info": {
   "codemirror_mode": {
    "name": "ipython",
    "version": 3
   },
   "file_extension": ".py",
   "mimetype": "text/x-python",
   "name": "python",
   "nbconvert_exporter": "python",
   "pygments_lexer": "ipython3",
   "version": "3.11.8"
  }
 },
 "nbformat": 4,
 "nbformat_minor": 5
}
